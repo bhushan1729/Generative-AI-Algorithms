{
  "cells": [
    {
      "cell_type": "code",
      "execution_count": 28,
      "metadata": {
        "id": "vPYvg3SLPn4S"
      },
      "outputs": [],
      "source": [
        "import torch\n",
        "import torch.nn as nn\n",
        "import torch.nn.functional as F\n",
        "import torch.optim as optim\n",
        "from torch.utils.data import DataLoader\n",
        "from torchvision import datasets, transforms\n",
        "\n",
        "import matplotlib.pyplot as plt\n",
        "import numpy as np\n",
        "\n",
        "import torchvision\n",
        "import torchvision.transforms as transforms\n",
        "\n",
        "\n",
        "import os\n",
        "from torchvision.utils import save_image"
      ]
    },
    {
      "cell_type": "code",
      "execution_count": 29,
      "metadata": {
        "id": "XBNVrUocQD2w"
      },
      "outputs": [],
      "source": [
        "device = torch.device(\"cuda\" if torch.cuda.is_available() else \"cpu\")"
      ]
    },
    {
      "cell_type": "code",
      "execution_count": 30,
      "metadata": {
        "id": "ATivaRVyQFi7"
      },
      "outputs": [],
      "source": [
        "# ===============================\n",
        "# Configuration\n",
        "# ===============================\n",
        "\n",
        "batch_size = 128\n",
        "latent_dim = 50\n",
        "epochs = 30\n",
        "lr = 2e-4"
      ]
    },
    {
      "cell_type": "code",
      "execution_count": 31,
      "metadata": {
        "id": "YB1VpHaPQZhp"
      },
      "outputs": [],
      "source": [
        "# ================================\n",
        "# Dataset (MNIST)\n",
        "# ================================\n",
        "\n",
        "transform = transforms.Compose([\n",
        "    transforms.ToTensor(),\n",
        "    transforms.Lambda(lambda x: x.view(-1))\n",
        "])\n",
        "\n",
        "train_dataset = datasets.MNIST(root='./data', train=True, download=True, transform=transform)\n",
        "train_loader = DataLoader(train_dataset, batch_size=batch_size, shuffle=True)"
      ]
    },
    {
      "cell_type": "code",
      "execution_count": 32,
      "metadata": {
        "id": "e9elTRCCRHI1"
      },
      "outputs": [],
      "source": [
        "# ==========================\n",
        "# Generator\n",
        "# ==========================\n",
        "\n",
        "class Generator(nn.Module):\n",
        "  def __init__(self):\n",
        "    super().__init__()\n",
        "    self.net = nn.Sequential(\n",
        "        nn.Linear(latent_dim, 1024),\n",
        "        nn.ReLU(),\n",
        "        nn.Linear(1024, 1024),\n",
        "        nn.BatchNorm1d(1024),\n",
        "        nn.ReLU(),\n",
        "        nn.Linear(1024, 784),\n",
        "        nn.Tanh()\n",
        "    )\n",
        "\n",
        "  def forward(self,z):\n",
        "    return self.net(z)"
      ]
    },
    {
      "cell_type": "code",
      "execution_count": 33,
      "metadata": {
        "id": "5YqJK7D-RqBg"
      },
      "outputs": [],
      "source": [
        "# ==========================\n",
        "# Encoder\n",
        "# ==========================\n",
        "\n",
        "class Encoder(nn.Module):\n",
        "  def __init__(self):\n",
        "    super().__init__()\n",
        "    self.net = nn.Sequential(\n",
        "        nn.Linear(784, 1024),\n",
        "        nn.ReLU(),\n",
        "        nn.Linear(1024, 1024),\n",
        "        nn.BatchNorm1d(1024),\n",
        "        nn.ReLU(),\n",
        "        nn.Linear(1024, latent_dim)\n",
        "    )\n",
        "\n",
        "  def forward(self, x):\n",
        "    return self.net(x)\n"
      ]
    },
    {
      "cell_type": "code",
      "execution_count": null,
      "metadata": {
        "id": "EYIDzF4-SMEV"
      },
      "outputs": [],
      "source": [
        "# ==============================\n",
        "# Discriminator (Joint: x, z)\n",
        "# ==============================\n",
        "\n",
        "class Discriminator(nn.Module):\n",
        "  def __init__(self):\n",
        "    super().__init__()\n",
        "    self.net = nn.Sequential(\n",
        "        nn.Linear(784 + latent_dim, 1024),\n",
        "        nn.ReLU(),\n",
        "        nn.Linear(1024, 1024),\n",
        "        nn.BatchNorm1d(1024),\n",
        "        nn.ReLU(),\n",
        "        nn.Linear(1024, 1),\n",
        "    )\n",
        "\n",
        "  def forward(self, x, z):\n",
        "    xz = torch.cat([x, z], dim=1)\n",
        "    return self.net(xz)"
      ]
    },
    {
      "cell_type": "code",
      "execution_count": 35,
      "metadata": {
        "id": "EHwF_gBBS3RZ"
      },
      "outputs": [],
      "source": [
        "# ======================\n",
        "# Initialize models\n",
        "# ======================\n",
        "\n",
        "G = Generator().to(device)\n",
        "E = Encoder().to(device)\n",
        "D = Discriminator().to(device)"
      ]
    },
    {
      "cell_type": "code",
      "execution_count": 36,
      "metadata": {
        "id": "UK8Egg5KTJz3"
      },
      "outputs": [],
      "source": [
        "# ==========================\n",
        "# Optimizers and Loss\n",
        "# ==========================\n",
        "\n",
        "bce_loss = nn.BCEWithLogitsLoss()\n",
        "optimizer_D = optim.Adam(D.parameters(), lr=lr, betas=(0.5, 0.999))\n",
        "optimizer_GE = optim.Adam(list(G.parameters()) + list(E.parameters()), lr=lr, betas=(0.5, 0.999))"
      ]
    },
    {
      "cell_type": "code",
      "execution_count": 37,
      "metadata": {
        "id": "2XZQLiLDTxxa"
      },
      "outputs": [],
      "source": [
        "k = 3\n",
        "p = 1\n",
        "\n",
        "os.makedirs('bigan', exist_ok=True)"
      ]
    },
    {
      "cell_type": "code",
      "execution_count": null,
      "metadata": {
        "colab": {
          "base_uri": "https://localhost:8080/"
        },
        "id": "BnVJaAu9V2GC",
        "outputId": "d179df67-ef27-423f-e001-a61d996f799e"
      },
      "outputs": [],
      "source": [
        "# ============================\n",
        "# Training Loop\n",
        "# ============================\n",
        "\n",
        "for epoch in range(1, epochs + 1):\n",
        "  for i, (x_real, _) in enumerate(train_loader):\n",
        "    x_real = x_real.to(device)\n",
        "    batch_size = x_real.size(0)\n",
        "\n",
        "    # Sample z from prior\n",
        "    z_real = torch.randn(batch_size, latent_dim, device=device)\n",
        "\n",
        "    # ===========================\n",
        "    # 1. Train Discriminator\n",
        "    # ===========================\n",
        "\n",
        "    for i in range(p):\n",
        "      G.eval()\n",
        "      E.eval()\n",
        "      D.train()\n",
        "\n",
        "      x_fake = G(z_real).detach()  # x_fake == x_generated\n",
        "      z_fake = E(x_real).detach()  # z_fake == z_generated\n",
        "\n",
        "      D_real = D(x_real, z_fake)\n",
        "      D_fake = D(x_fake, z_real)\n",
        "\n",
        "      label_real = torch.ones_like(D_real)\n",
        "      label_fake = torch.zeros_like(D_fake)\n",
        "\n",
        "      loss_D = bce_loss(D_real, label_real) + bce_loss(D_fake, label_fake)\n",
        "\n",
        "      optimizer_D.zero_grad()\n",
        "      loss_D.backward()\n",
        "      optimizer_D.step()\n",
        "\n",
        "    # ================================\n",
        "    # 2. Train Generator + Encoder\n",
        "    # ================================\n",
        "\n",
        "    for _ in range(k):\n",
        "      G.eval()\n",
        "      E.eval()\n",
        "      D.train()\n",
        "\n",
        "      X_fake = G(z_real)\n",
        "      z_fake = E(x_real)\n",
        "\n",
        "      D_real = D(x_real, z_fake)\n",
        "      D_fake = D(x_fake, z_real)\n",
        "\n",
        "      loss_GE = bce_loss(D_real, label_fake) + bce_loss(D_fake, label_real)\n",
        "\n",
        "      optimizer_GE.zero_grad()\n",
        "      loss_GE.backward()\n",
        "      optimizer_GE.step()\n",
        "\n",
        "    if i%100 == 0:\n",
        "      print(f'Epoch [{epoch}/{epochs}], Batch [{i}/{len(train_loader)}], D_loss: {loss_D.item():.4f}, G_loss: {loss_GE.item():.4f}')\n",
        "\n",
        "    # Save samples every epochs\n",
        "    G.eval()\n",
        "\n",
        "    with torch.no_grad():\n",
        "      z = torch.randn(64, latent_dim, device=device)\n",
        "      samples = G(z)\n",
        "      samples = samples * 0.5 + 0.5  # denormalize\n",
        "      save_image(samples, f'bigan/epoch_{epoch}.png', nrow=8)\n",
        "\n",
        "    G.train()\n"
      ]
    },
    {
      "cell_type": "code",
      "execution_count": null,
      "metadata": {
        "id": "a89Sn54VbVlz"
      },
      "outputs": [],
      "source": []
    }
  ],
  "metadata": {
    "accelerator": "GPU",
    "colab": {
      "gpuType": "T4",
      "provenance": []
    },
    "kernelspec": {
      "display_name": "Python 3",
      "name": "python3"
    },
    "language_info": {
      "name": "python"
    }
  },
  "nbformat": 4,
  "nbformat_minor": 0
}
